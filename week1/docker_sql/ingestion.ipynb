{
 "cells": [
  {
   "cell_type": "code",
   "execution_count": 1,
   "metadata": {},
   "outputs": [],
   "source": [
    "from time import time\n",
    "\n",
    "import pandas as pd\n",
    "from sqlalchemy import create_engine"
   ]
  },
  {
   "cell_type": "code",
   "execution_count": 26,
   "metadata": {},
   "outputs": [],
   "source": [
    "user=\"root\"\n",
    "password=\"root\"\n",
    "host=\"localhost\"\n",
    "port=\"5432\"\n",
    "db=\"ny_taxi\"\n",
    "table_name=\"yellow_taxi_trips\""
   ]
  },
  {
   "cell_type": "code",
   "execution_count": 27,
   "metadata": {},
   "outputs": [],
   "source": [
    "engine = create_engine(f'postgresql://{user}:{password}@{host}:{port}/{db}')"
   ]
  },
  {
   "cell_type": "code",
   "execution_count": 5,
   "metadata": {},
   "outputs": [],
   "source": [
    "csv_name = \"yellow_tripdata_2021-01.csv\""
   ]
  },
  {
   "cell_type": "code",
   "execution_count": 17,
   "metadata": {},
   "outputs": [
    {
     "name": "stderr",
     "output_type": "stream",
     "text": [
      "/Users/admin/.local/share/virtualenvs/de-zoomcamp-gEc_EidF/lib/python3.9/site-packages/IPython/core/interactiveshell.py:3251: DtypeWarning: Columns (6) have mixed types.Specify dtype option on import or set low_memory=False.\n",
      "  exec(code_obj, self.user_global_ns, self.user_ns)\n"
     ]
    }
   ],
   "source": [
    "df = pd.read_csv(csv_name)"
   ]
  },
  {
   "cell_type": "code",
   "execution_count": 18,
   "metadata": {},
   "outputs": [],
   "source": [
    "df.tpep_pickup_datetime = pd.to_datetime(df.tpep_pickup_datetime)\n",
    "df.tpep_dropoff_datetime = pd.to_datetime(df.tpep_dropoff_datetime)"
   ]
  },
  {
   "cell_type": "code",
   "execution_count": 28,
   "metadata": {},
   "outputs": [],
   "source": [
    "df.head(n=0).to_sql(name=table_name, con=engine, if_exists='replace')"
   ]
  },
  {
   "cell_type": "code",
   "execution_count": 41,
   "metadata": {},
   "outputs": [],
   "source": [
    "n = 100000\n",
    "chunks = [df[i:i+n] for i in range(0,df.shape[0],n)]"
   ]
  },
  {
   "cell_type": "code",
   "execution_count": 46,
   "metadata": {},
   "outputs": [
    {
     "name": "stdout",
     "output_type": "stream",
     "text": [
      "inserted another chunk, took 12.868 second\n",
      "inserted another chunk, took 11.104 second\n",
      "inserted another chunk, took 12.767 second\n",
      "inserted another chunk, took 11.965 second\n",
      "inserted another chunk, took 13.182 second\n",
      "inserted another chunk, took 13.121 second\n",
      "inserted another chunk, took 13.532 second\n",
      "inserted another chunk, took 14.995 second\n",
      "inserted another chunk, took 15.105 second\n",
      "inserted another chunk, took 14.188 second\n",
      "inserted another chunk, took 14.238 second\n",
      "inserted another chunk, took 15.175 second\n",
      "inserted another chunk, took 17.379 second\n",
      "inserted another chunk, took 9.059 second\n"
     ]
    }
   ],
   "source": [
    "for chunk in chunks:\n",
    "    t_start = time()\n",
    "    chunk.to_sql(name=table_name, con=engine, if_exists='append')\n",
    "    t_end = time()\n",
    "    print('inserted another chunk, took %.3f second' % (t_end - t_start))"
   ]
  },
  {
   "cell_type": "code",
   "execution_count": null,
   "metadata": {},
   "outputs": [],
   "source": []
  },
  {
   "cell_type": "code",
   "execution_count": null,
   "metadata": {},
   "outputs": [],
   "source": []
  }
 ],
 "metadata": {
  "interpreter": {
   "hash": "2b91fa6113f7331b3574921102c9b49ab3816cefae25f7932eea908f3f23e525"
  },
  "kernelspec": {
   "display_name": "Python 3.9.9 64-bit ('de-zoomcamp-gEc_EidF': pipenv)",
   "language": "python",
   "name": "python3"
  },
  "language_info": {
   "codemirror_mode": {
    "name": "ipython",
    "version": 3
   },
   "file_extension": ".py",
   "mimetype": "text/x-python",
   "name": "python",
   "nbconvert_exporter": "python",
   "pygments_lexer": "ipython3",
   "version": "3.9.9"
  },
  "orig_nbformat": 4
 },
 "nbformat": 4,
 "nbformat_minor": 2
}
